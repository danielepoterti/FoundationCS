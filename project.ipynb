{
 "cells": [
  {
   "cell_type": "markdown",
   "id": "ec6f05cf-3769-4381-b7eb-a9d8de052d69",
   "metadata": {},
   "source": [
    "You have to work on the [Dogs adoptions](https://drive.google.com/file/d/1wQsA0oB6wwYlnkvvcyBCmLk7QmgVWNax/view?usp=sharing) dataset. \n",
    "\n",
    "It contains three files:\n",
    "*  `dogs.csv`, shortly *dogs*\n",
    "*  `dogTravel.csv`, shortly *travels*\n",
    "*  `NST-EST2021-POP.csv`\n",
    "\n",
    "### Notes\n",
    "\n",
    "1.    It is mandatory to use GitHub for developing the project.\n",
    "1.    The project must be a jupyter notebook.\n",
    "1.    There is no restriction on the libraries that can be used, nor on the Python version.\n",
    "1.    All questions on the project **must** be asked in a public channel on [Zulip](https://focs.zulipchat.com).\n",
    "1.    At most 3 students can be in each group. You must create the groups by yourself.\n",
    "1.    You do not have to send me the project *before* the discussion."
   ]
  },
  {
   "cell_type": "code",
   "execution_count": 3,
   "id": "d16e05fe",
   "metadata": {},
   "outputs": [],
   "source": [
    "import pandas as pd\n",
    "\n",
    "dogs_df = pd.read_csv(\"adoptions/dogs.csv\", sep = \",\")\n",
    "dogTravel_df = pd.read_csv(\"adoptions/dogTravel.csv\", sep = \",\")\n",
    "NST_df = pd.read_csv(\"adoptions/NST-EST2021-POP.csv\", sep = \",\")"
   ]
  },
  {
   "cell_type": "code",
   "execution_count": 57,
   "id": "83ec1b4b",
   "metadata": {},
   "outputs": [
    {
     "data": {
      "text/html": [
       "<div>\n",
       "<style scoped>\n",
       "    .dataframe tbody tr th:only-of-type {\n",
       "        vertical-align: middle;\n",
       "    }\n",
       "\n",
       "    .dataframe tbody tr th {\n",
       "        vertical-align: top;\n",
       "    }\n",
       "\n",
       "    .dataframe thead th {\n",
       "        text-align: right;\n",
       "    }\n",
       "</style>\n",
       "<table border=\"1\" class=\"dataframe\">\n",
       "  <thead>\n",
       "    <tr style=\"text-align: right;\">\n",
       "      <th></th>\n",
       "      <th>id</th>\n",
       "      <th>org_id</th>\n",
       "      <th>url</th>\n",
       "      <th>type.x</th>\n",
       "      <th>species</th>\n",
       "      <th>breed_primary</th>\n",
       "      <th>breed_secondary</th>\n",
       "      <th>breed_mixed</th>\n",
       "      <th>breed_unknown</th>\n",
       "      <th>color_primary</th>\n",
       "      <th>...</th>\n",
       "      <th>contact_state</th>\n",
       "      <th>contact_zip</th>\n",
       "      <th>contact_country</th>\n",
       "      <th>stateQ</th>\n",
       "      <th>accessed</th>\n",
       "      <th>type.y</th>\n",
       "      <th>description</th>\n",
       "      <th>stay_duration</th>\n",
       "      <th>stay_cost</th>\n",
       "      <th>duplicate</th>\n",
       "    </tr>\n",
       "  </thead>\n",
       "  <tbody>\n",
       "    <tr>\n",
       "      <th>0</th>\n",
       "      <td>46042150</td>\n",
       "      <td>NV163</td>\n",
       "      <td>https://www.petfinder.com/dog/harley-46042150/...</td>\n",
       "      <td>Dog</td>\n",
       "      <td>Dog</td>\n",
       "      <td>American Staffordshire Terrier</td>\n",
       "      <td>Mixed Breed</td>\n",
       "      <td>True</td>\n",
       "      <td>False</td>\n",
       "      <td>White / Cream</td>\n",
       "      <td>...</td>\n",
       "      <td>NV</td>\n",
       "      <td>89147</td>\n",
       "      <td>US</td>\n",
       "      <td>89009</td>\n",
       "      <td>2019-09-20</td>\n",
       "      <td>Dog</td>\n",
       "      <td>Harley is not sure how he wound up at shelter ...</td>\n",
       "      <td>70</td>\n",
       "      <td>124.81</td>\n",
       "      <td>False</td>\n",
       "    </tr>\n",
       "    <tr>\n",
       "      <th>1</th>\n",
       "      <td>46042002</td>\n",
       "      <td>NV163</td>\n",
       "      <td>https://www.petfinder.com/dog/biggie-46042002/...</td>\n",
       "      <td>Dog</td>\n",
       "      <td>Dog</td>\n",
       "      <td>Pit Bull Terrier</td>\n",
       "      <td>Mixed Breed</td>\n",
       "      <td>True</td>\n",
       "      <td>False</td>\n",
       "      <td>Brown / Chocolate</td>\n",
       "      <td>...</td>\n",
       "      <td>NV</td>\n",
       "      <td>89147</td>\n",
       "      <td>US</td>\n",
       "      <td>89009</td>\n",
       "      <td>2019-09-20</td>\n",
       "      <td>Dog</td>\n",
       "      <td>6 year old Biggie has lost his home and really...</td>\n",
       "      <td>49</td>\n",
       "      <td>122.07</td>\n",
       "      <td>False</td>\n",
       "    </tr>\n",
       "    <tr>\n",
       "      <th>2</th>\n",
       "      <td>46040898</td>\n",
       "      <td>NV99</td>\n",
       "      <td>https://www.petfinder.com/dog/ziggy-46040898/n...</td>\n",
       "      <td>Dog</td>\n",
       "      <td>Dog</td>\n",
       "      <td>Shepherd</td>\n",
       "      <td>NaN</td>\n",
       "      <td>False</td>\n",
       "      <td>False</td>\n",
       "      <td>Brindle</td>\n",
       "      <td>...</td>\n",
       "      <td>NV</td>\n",
       "      <td>89027</td>\n",
       "      <td>US</td>\n",
       "      <td>89009</td>\n",
       "      <td>2019-09-20</td>\n",
       "      <td>Dog</td>\n",
       "      <td>Approx 2 years old.\\r\\n Did I catch your eye? ...</td>\n",
       "      <td>87</td>\n",
       "      <td>281.51</td>\n",
       "      <td>False</td>\n",
       "    </tr>\n",
       "    <tr>\n",
       "      <th>3</th>\n",
       "      <td>46039877</td>\n",
       "      <td>NV202</td>\n",
       "      <td>https://www.petfinder.com/dog/gypsy-46039877/n...</td>\n",
       "      <td>Dog</td>\n",
       "      <td>Dog</td>\n",
       "      <td>German Shepherd Dog</td>\n",
       "      <td>NaN</td>\n",
       "      <td>False</td>\n",
       "      <td>False</td>\n",
       "      <td>NaN</td>\n",
       "      <td>...</td>\n",
       "      <td>NV</td>\n",
       "      <td>89048</td>\n",
       "      <td>US</td>\n",
       "      <td>89009</td>\n",
       "      <td>2019-09-20</td>\n",
       "      <td>Dog</td>\n",
       "      <td></td>\n",
       "      <td>62</td>\n",
       "      <td>145.83</td>\n",
       "      <td>False</td>\n",
       "    </tr>\n",
       "    <tr>\n",
       "      <th>4</th>\n",
       "      <td>46039306</td>\n",
       "      <td>NV184</td>\n",
       "      <td>https://www.petfinder.com/dog/theo-46039306/nv...</td>\n",
       "      <td>Dog</td>\n",
       "      <td>Dog</td>\n",
       "      <td>Dachshund</td>\n",
       "      <td>NaN</td>\n",
       "      <td>False</td>\n",
       "      <td>False</td>\n",
       "      <td>NaN</td>\n",
       "      <td>...</td>\n",
       "      <td>NV</td>\n",
       "      <td>89052</td>\n",
       "      <td>US</td>\n",
       "      <td>89009</td>\n",
       "      <td>2019-09-20</td>\n",
       "      <td>Dog</td>\n",
       "      <td>Theo is a friendly dachshund mix who gets alon...</td>\n",
       "      <td>93</td>\n",
       "      <td>241.09</td>\n",
       "      <td>False</td>\n",
       "    </tr>\n",
       "    <tr>\n",
       "      <th>...</th>\n",
       "      <td>...</td>\n",
       "      <td>...</td>\n",
       "      <td>...</td>\n",
       "      <td>...</td>\n",
       "      <td>...</td>\n",
       "      <td>...</td>\n",
       "      <td>...</td>\n",
       "      <td>...</td>\n",
       "      <td>...</td>\n",
       "      <td>...</td>\n",
       "      <td>...</td>\n",
       "      <td>...</td>\n",
       "      <td>...</td>\n",
       "      <td>...</td>\n",
       "      <td>...</td>\n",
       "      <td>...</td>\n",
       "      <td>...</td>\n",
       "      <td>...</td>\n",
       "      <td>...</td>\n",
       "      <td>...</td>\n",
       "      <td>...</td>\n",
       "    </tr>\n",
       "    <tr>\n",
       "      <th>58175</th>\n",
       "      <td>44605893</td>\n",
       "      <td>WY20</td>\n",
       "      <td>https://www.petfinder.com/dog/tren-44605893/wy...</td>\n",
       "      <td>Dog</td>\n",
       "      <td>Dog</td>\n",
       "      <td>Border Collie</td>\n",
       "      <td>NaN</td>\n",
       "      <td>False</td>\n",
       "      <td>False</td>\n",
       "      <td>Tricolor (Brown, Black, &amp; White)</td>\n",
       "      <td>...</td>\n",
       "      <td>WY</td>\n",
       "      <td>82520</td>\n",
       "      <td>US</td>\n",
       "      <td>WY</td>\n",
       "      <td>2019-09-20</td>\n",
       "      <td>Dog</td>\n",
       "      <td>Due to the small size of our volunteer base, w...</td>\n",
       "      <td>100</td>\n",
       "      <td>324.34</td>\n",
       "      <td>True</td>\n",
       "    </tr>\n",
       "    <tr>\n",
       "      <th>58176</th>\n",
       "      <td>44457061</td>\n",
       "      <td>WY24</td>\n",
       "      <td>https://www.petfinder.com/dog/harley-44457061/...</td>\n",
       "      <td>Dog</td>\n",
       "      <td>Dog</td>\n",
       "      <td>Australian Shepherd</td>\n",
       "      <td>Australian Cattle Dog / Blue Heeler</td>\n",
       "      <td>True</td>\n",
       "      <td>False</td>\n",
       "      <td>NaN</td>\n",
       "      <td>...</td>\n",
       "      <td>WY</td>\n",
       "      <td>82501</td>\n",
       "      <td>US</td>\n",
       "      <td>WY</td>\n",
       "      <td>2019-09-20</td>\n",
       "      <td>Dog</td>\n",
       "      <td></td>\n",
       "      <td>65</td>\n",
       "      <td>245.90</td>\n",
       "      <td>True</td>\n",
       "    </tr>\n",
       "    <tr>\n",
       "      <th>58177</th>\n",
       "      <td>42865848</td>\n",
       "      <td>WY20</td>\n",
       "      <td>https://www.petfinder.com/dog/echo-42865848/wy...</td>\n",
       "      <td>Dog</td>\n",
       "      <td>Dog</td>\n",
       "      <td>Border Collie</td>\n",
       "      <td>NaN</td>\n",
       "      <td>False</td>\n",
       "      <td>False</td>\n",
       "      <td>NaN</td>\n",
       "      <td>...</td>\n",
       "      <td>WY</td>\n",
       "      <td>82637</td>\n",
       "      <td>US</td>\n",
       "      <td>WY</td>\n",
       "      <td>2019-09-20</td>\n",
       "      <td>Dog</td>\n",
       "      <td>Due to the small size of our volunteer base, w...</td>\n",
       "      <td>100</td>\n",
       "      <td>184.06</td>\n",
       "      <td>True</td>\n",
       "    </tr>\n",
       "    <tr>\n",
       "      <th>58178</th>\n",
       "      <td>42734734</td>\n",
       "      <td>WY24</td>\n",
       "      <td>https://www.petfinder.com/dog/simon-42734734/w...</td>\n",
       "      <td>Dog</td>\n",
       "      <td>Dog</td>\n",
       "      <td>Boxer</td>\n",
       "      <td>Mixed Breed</td>\n",
       "      <td>True</td>\n",
       "      <td>False</td>\n",
       "      <td>NaN</td>\n",
       "      <td>...</td>\n",
       "      <td>WY</td>\n",
       "      <td>82501</td>\n",
       "      <td>US</td>\n",
       "      <td>WY</td>\n",
       "      <td>2019-09-20</td>\n",
       "      <td>Dog</td>\n",
       "      <td></td>\n",
       "      <td>58</td>\n",
       "      <td>61.05</td>\n",
       "      <td>True</td>\n",
       "    </tr>\n",
       "    <tr>\n",
       "      <th>58179</th>\n",
       "      <td>42663515</td>\n",
       "      <td>WY24</td>\n",
       "      <td>https://www.petfinder.com/dog/romeo-42663515/w...</td>\n",
       "      <td>Dog</td>\n",
       "      <td>Dog</td>\n",
       "      <td>Labrador Retriever</td>\n",
       "      <td>Pit Bull Terrier</td>\n",
       "      <td>True</td>\n",
       "      <td>False</td>\n",
       "      <td>NaN</td>\n",
       "      <td>...</td>\n",
       "      <td>WY</td>\n",
       "      <td>82501</td>\n",
       "      <td>US</td>\n",
       "      <td>WY</td>\n",
       "      <td>2019-09-20</td>\n",
       "      <td>Dog</td>\n",
       "      <td></td>\n",
       "      <td>100</td>\n",
       "      <td>255.38</td>\n",
       "      <td>True</td>\n",
       "    </tr>\n",
       "  </tbody>\n",
       "</table>\n",
       "<p>58180 rows × 38 columns</p>\n",
       "</div>"
      ],
      "text/plain": [
       "             id org_id                                                url  \\\n",
       "0      46042150  NV163  https://www.petfinder.com/dog/harley-46042150/...   \n",
       "1      46042002  NV163  https://www.petfinder.com/dog/biggie-46042002/...   \n",
       "2      46040898   NV99  https://www.petfinder.com/dog/ziggy-46040898/n...   \n",
       "3      46039877  NV202  https://www.petfinder.com/dog/gypsy-46039877/n...   \n",
       "4      46039306  NV184  https://www.petfinder.com/dog/theo-46039306/nv...   \n",
       "...         ...    ...                                                ...   \n",
       "58175  44605893   WY20  https://www.petfinder.com/dog/tren-44605893/wy...   \n",
       "58176  44457061   WY24  https://www.petfinder.com/dog/harley-44457061/...   \n",
       "58177  42865848   WY20  https://www.petfinder.com/dog/echo-42865848/wy...   \n",
       "58178  42734734   WY24  https://www.petfinder.com/dog/simon-42734734/w...   \n",
       "58179  42663515   WY24  https://www.petfinder.com/dog/romeo-42663515/w...   \n",
       "\n",
       "      type.x species                   breed_primary  \\\n",
       "0        Dog     Dog  American Staffordshire Terrier   \n",
       "1        Dog     Dog                Pit Bull Terrier   \n",
       "2        Dog     Dog                        Shepherd   \n",
       "3        Dog     Dog             German Shepherd Dog   \n",
       "4        Dog     Dog                       Dachshund   \n",
       "...      ...     ...                             ...   \n",
       "58175    Dog     Dog                   Border Collie   \n",
       "58176    Dog     Dog             Australian Shepherd   \n",
       "58177    Dog     Dog                   Border Collie   \n",
       "58178    Dog     Dog                           Boxer   \n",
       "58179    Dog     Dog              Labrador Retriever   \n",
       "\n",
       "                           breed_secondary  breed_mixed  breed_unknown  \\\n",
       "0                              Mixed Breed         True          False   \n",
       "1                              Mixed Breed         True          False   \n",
       "2                                      NaN        False          False   \n",
       "3                                      NaN        False          False   \n",
       "4                                      NaN        False          False   \n",
       "...                                    ...          ...            ...   \n",
       "58175                                  NaN        False          False   \n",
       "58176  Australian Cattle Dog / Blue Heeler         True          False   \n",
       "58177                                  NaN        False          False   \n",
       "58178                          Mixed Breed         True          False   \n",
       "58179                     Pit Bull Terrier         True          False   \n",
       "\n",
       "                          color_primary  ... contact_state contact_zip  \\\n",
       "0                         White / Cream  ...            NV       89147   \n",
       "1                     Brown / Chocolate  ...            NV       89147   \n",
       "2                               Brindle  ...            NV       89027   \n",
       "3                                   NaN  ...            NV       89048   \n",
       "4                                   NaN  ...            NV       89052   \n",
       "...                                 ...  ...           ...         ...   \n",
       "58175  Tricolor (Brown, Black, & White)  ...            WY       82520   \n",
       "58176                               NaN  ...            WY       82501   \n",
       "58177                               NaN  ...            WY       82637   \n",
       "58178                               NaN  ...            WY       82501   \n",
       "58179                               NaN  ...            WY       82501   \n",
       "\n",
       "      contact_country stateQ    accessed type.y  \\\n",
       "0                  US  89009  2019-09-20    Dog   \n",
       "1                  US  89009  2019-09-20    Dog   \n",
       "2                  US  89009  2019-09-20    Dog   \n",
       "3                  US  89009  2019-09-20    Dog   \n",
       "4                  US  89009  2019-09-20    Dog   \n",
       "...               ...    ...         ...    ...   \n",
       "58175              US     WY  2019-09-20    Dog   \n",
       "58176              US     WY  2019-09-20    Dog   \n",
       "58177              US     WY  2019-09-20    Dog   \n",
       "58178              US     WY  2019-09-20    Dog   \n",
       "58179              US     WY  2019-09-20    Dog   \n",
       "\n",
       "                                             description  stay_duration  \\\n",
       "0      Harley is not sure how he wound up at shelter ...             70   \n",
       "1      6 year old Biggie has lost his home and really...             49   \n",
       "2      Approx 2 years old.\\r\\n Did I catch your eye? ...             87   \n",
       "3                                                                    62   \n",
       "4      Theo is a friendly dachshund mix who gets alon...             93   \n",
       "...                                                  ...            ...   \n",
       "58175  Due to the small size of our volunteer base, w...            100   \n",
       "58176                                                                65   \n",
       "58177  Due to the small size of our volunteer base, w...            100   \n",
       "58178                                                                58   \n",
       "58179                                                               100   \n",
       "\n",
       "       stay_cost  duplicate  \n",
       "0         124.81      False  \n",
       "1         122.07      False  \n",
       "2         281.51      False  \n",
       "3         145.83      False  \n",
       "4         241.09      False  \n",
       "...          ...        ...  \n",
       "58175     324.34       True  \n",
       "58176     245.90       True  \n",
       "58177     184.06       True  \n",
       "58178      61.05       True  \n",
       "58179     255.38       True  \n",
       "\n",
       "[58180 rows x 38 columns]"
      ]
     },
     "execution_count": 57,
     "metadata": {},
     "output_type": "execute_result"
    }
   ],
   "source": [
    "dogs_df"
   ]
  },
  {
   "cell_type": "code",
   "execution_count": null,
   "id": "00b0af03",
   "metadata": {},
   "outputs": [],
   "source": [
    "NST_df = NST_df.T.reset_index().T.reset_index(drop=True)\n",
    "NST_df.columns = ['state', 'population']"
   ]
  },
  {
   "cell_type": "markdown",
   "id": "d8949bae",
   "metadata": {},
   "source": [
    "### 1. Extract all dogs with status that is not *adoptable*"
   ]
  },
  {
   "cell_type": "code",
   "execution_count": null,
   "id": "3dfaaf9b",
   "metadata": {},
   "outputs": [],
   "source": [
    "dog_not_adop = dogs_df[dogs_df[\"status\"] != \"adoptable\"]\n",
    "\n",
    "#metodo 2\n",
    "# dog_not_adop = dogs_df[~dogs_df[\"status\"].isin(adoptable)]"
   ]
  },
  {
   "cell_type": "code",
   "execution_count": null,
   "id": "f6ef7563",
   "metadata": {},
   "outputs": [],
   "source": [
    "#pd.set_option('display.max_columns', None)\n",
    "#pd.set_option('display.max_rows', None)"
   ]
  },
  {
   "cell_type": "code",
   "execution_count": null,
   "id": "853c68ec",
   "metadata": {},
   "outputs": [],
   "source": [
    "dog_not_adop"
   ]
  },
  {
   "cell_type": "code",
   "execution_count": null,
   "id": "668ae13d",
   "metadata": {},
   "outputs": [],
   "source": [
    "temp = dog_not_adop[\"status\"]\n",
    "dog_not_adop[\"accessed\"] = dog_not_adop[\"stateQ\"]\n",
    "dog_not_adop[\"stateQ\"] = dog_not_adop[\"contact_country\"]\n",
    "dog_not_adop[\"contact_country\"] = dog_not_adop[\"contact_zip\"]\n",
    "dog_not_adop[\"contact_zip\"] = dog_not_adop[\"contact_state\"]\n",
    "dog_not_adop[\"contact_state\"] = dog_not_adop[\"contact_city\"]\n",
    "dog_not_adop[\"contact_city\"] = dog_not_adop[\"posted\"]\n",
    "dog_not_adop[\"posted\"] = dog_not_adop[\"status\"]\n",
    "dog_not_adop = dog_not_adop.assign(status='unknown')"
   ]
  },
  {
   "cell_type": "code",
   "execution_count": null,
   "id": "ca742fd5",
   "metadata": {},
   "outputs": [],
   "source": [
    "dog_not_adop"
   ]
  },
  {
   "cell_type": "code",
   "execution_count": null,
   "id": "06118050",
   "metadata": {},
   "outputs": [],
   "source": [
    "dogs_df[dogs_df['id'] == 41330726] #uno dei not adopted prima di effetturare le modifiche che rendono accessed una colonna non più vuota"
   ]
  },
  {
   "cell_type": "code",
   "execution_count": null,
   "id": "226a1eea",
   "metadata": {},
   "outputs": [],
   "source": [
    "import re\n",
    "\n",
    "for index, row in dog_not_adop.iterrows():\n",
    "    m = re.search(r'([a-z])\\w*', row['name'], re.MULTILINE | re.IGNORECASE)\n",
    "    dog_not_adop.at[index,'name']= m.group(0)\n",
    "\n",
    "dog_not_adop"
   ]
  },
  {
   "cell_type": "code",
   "execution_count": null,
   "id": "d274c61c",
   "metadata": {},
   "outputs": [],
   "source": [
    "dogs_df.update(dogs_df[['id']].merge(dog_not_adop.drop_duplicates('id', keep='last'), on='id', how='left')[['org_id', 'url', 'type.x', 'species', 'breed_primary', 'breed_secondary', 'breed_mixed', 'breed_unknown', 'color_primary', 'color_secondary', 'color_tertiary', 'age', 'sex', 'size', 'coat', 'fixed', 'house_trained', 'declawed', 'special_needs', 'shots_current', 'env_children', 'env_dogs', 'env_cats', 'name', 'status', 'posted', 'contact_city', 'contact_state', 'contact_zip', 'contact_country', 'stateQ', 'accessed', 'type.y', 'description', 'stay_duration', 'stay_cost']])"
   ]
  },
  {
   "cell_type": "code",
   "execution_count": null,
   "id": "ea6332a9",
   "metadata": {},
   "outputs": [],
   "source": [
    "dogs_df[dogs_df['id'] == 41330726] #uno dei not adopted, confrontare con risultato 3 celle sopra"
   ]
  },
  {
   "cell_type": "code",
   "execution_count": null,
   "id": "f5890d86",
   "metadata": {},
   "outputs": [],
   "source": [
    "# dogs_df[dogs_df[\"status\"] != \"adoptable\"]\n",
    "\n",
    "#metodo 2\n",
    "#dog_not_adopts = dogs_df[~dogs_df[\"status\"].isin(['adoptable'])]"
   ]
  },
  {
   "cell_type": "markdown",
   "id": "f3d46848-9e88-4eae-96af-43263c16371e",
   "metadata": {},
   "source": [
    "### 2. For each (primary) breed, determine the number of dogs"
   ]
  },
  {
   "cell_type": "code",
   "execution_count": null,
   "id": "b41d76fc",
   "metadata": {},
   "outputs": [],
   "source": [
    "#metodo 1\n",
    "count_prim_breed = dogs_df.groupby(['breed_primary'])['breed_primary'].count()\n",
    "\n",
    "#metodo 2\n",
    "count_prim_breed2 = dogs_df['breed_primary'].value_counts() #restituisce gli stessi risultati, ma in ordine decrescente"
   ]
  },
  {
   "cell_type": "code",
   "execution_count": null,
   "id": "f93ce429",
   "metadata": {},
   "outputs": [],
   "source": [
    "count_prim_breed "
   ]
  },
  {
   "cell_type": "code",
   "execution_count": null,
   "id": "e9adeda0",
   "metadata": {},
   "outputs": [],
   "source": [
    "count_prim_breed2 "
   ]
  },
  {
   "cell_type": "markdown",
   "id": "bd288f44-e2f2-4420-b662-da98a666a8a9",
   "metadata": {},
   "source": [
    "### 3. For each (primary) breed, determine the ratio between the number of dogs of `Mixed Breed` and those not of Mixed Breed. Hint: look at the `secondary_breed`."
   ]
  },
  {
   "cell_type": "code",
   "execution_count": null,
   "id": "7baacdc5",
   "metadata": {},
   "outputs": [],
   "source": [
    "#mixed breed / non mixed breed raggruppati per primary breed\n",
    "\n",
    "#i mixed breed avranno true a breed mixed (secondary breed può anche essere nulla se non si sa che incrocio sia)\n",
    "#i non mixed breed avranno valore nullo sulla secondary breed AND false per breed mixed\n",
    "\n",
    "#da controllare IL PROCEDIMENTO\n",
    "#metodo 1\n",
    "ratio = dogs_df[dogs_df[\"breed_mixed\"] == True].groupby(['breed_primary'])['breed_primary'].count() / dogs_df[(dogs_df[\"breed_mixed\"] == False) & (dogs_df[\"breed_secondary\"].isnull())].groupby(['breed_primary'])['breed_primary'].count()\n",
    "\n",
    "#metodo 2\n",
    "#con value_counts()\n",
    "mixed = dogs_df[dogs_df['breed_mixed'] == True]['breed_primary'].value_counts()\n",
    "not_mixed = dogs_df[(dogs_df['breed_mixed'] == False) & (dogs_df[\"breed_secondary\"].isnull())]['breed_primary'].value_counts()\n",
    "\n",
    "ratio2 = mixed/not_mixed"
   ]
  },
  {
   "cell_type": "code",
   "execution_count": null,
   "id": "022aaa0a",
   "metadata": {},
   "outputs": [],
   "source": [
    "ratio"
   ]
  },
  {
   "cell_type": "code",
   "execution_count": null,
   "id": "90637cee",
   "metadata": {},
   "outputs": [],
   "source": [
    "ratio2"
   ]
  },
  {
   "cell_type": "markdown",
   "id": "f94c4aed-9490-440d-af7e-744ed71e6819",
   "metadata": {},
   "source": [
    "### 4. For each (primary) breed, determine the earliest and the latest `posted` timestamp."
   ]
  },
  {
   "cell_type": "code",
   "execution_count": null,
   "id": "78377d6a",
   "metadata": {},
   "outputs": [],
   "source": [
    "timestampMax = dogs_df.groupby(['breed_primary'])['posted'].max()\n",
    "timestampDf = pd.DataFrame({\"primary_breed\": timestampMax.index, \"max_posted\": timestampMax.values})\n",
    "timestampMin = dogs_df.groupby(['breed_primary'])['posted'].min()\n",
    "timestampDf['min_posted'] = timestampMin.values\n",
    "\n",
    "timestampDf"
   ]
  },
  {
   "cell_type": "markdown",
   "id": "db828c77-9432-4533-9695-e45ec86dc885",
   "metadata": {},
   "source": [
    "### 5. For each state, compute the sex imbalance, that is the difference between male and female dogs. In which state this imbalance is largest?"
   ]
  },
  {
   "cell_type": "code",
   "execution_count": null,
   "id": "cbe2fa84",
   "metadata": {},
   "outputs": [],
   "source": [
    "imbalance = dogs_df[dogs_df[\"sex\"] == 'Male'].groupby(['contact_state'])['sex'].count() - dogs_df[dogs_df[\"sex\"] == 'Female'].groupby(['contact_state'])['sex'].count()\n",
    "\n",
    "imbDf = pd.DataFrame({\"contact_state\": imbalance.index, \"imbalance\": imbalance.values})\n",
    "imbMale = dogs_df[dogs_df[\"sex\"] == 'Male'].groupby(['contact_state'])['sex'].count()\n",
    "imbFemale = dogs_df[dogs_df[\"sex\"] == 'Female'].groupby(['contact_state'])['sex'].count()\n",
    "imbDf['male'] = imbMale.values\n",
    "imbDf['female'] = imbFemale.values\n",
    "\n",
    "imbDf"
   ]
  },
  {
   "cell_type": "markdown",
   "id": "2bf98f50-14b1-4a48-9906-c71e614789c5",
   "metadata": {},
   "source": [
    "### 6. For each pair (age, size), determine the average duration of the stay and the average cost of stay."
   ]
  },
  {
   "cell_type": "code",
   "execution_count": null,
   "id": "109ec43f",
   "metadata": {},
   "outputs": [],
   "source": [
    "avg_stay = dogs_df.groupby(['age', 'size'])['stay_duration'].mean()\n",
    "avg_cost = dogs_df.groupby(['age', 'size'])['stay_cost'].mean()\n",
    "\n",
    "#creation of support dataframes\n",
    "#in this way I can reset the index and acces to the values of age and size more easily\n",
    "avg_stay_copy = dogs_df.groupby(['age', 'size'])['stay_duration'].mean()\n",
    "avg_stay_copy = avg_stay_copy.reset_index()\n",
    "avg_cost_copy = dogs_df.groupby(['age', 'size'])['stay_cost'].mean()\n",
    "avg_cost_copy = avg_cost_copy.reset_index()"
   ]
  },
  {
   "cell_type": "code",
   "execution_count": null,
   "id": "c138cb95",
   "metadata": {},
   "outputs": [],
   "source": [
    "#creation of the final dataframe\n",
    "dur_cost_Df = pd.DataFrame({'age': avg_stay_copy['age'], 'size': avg_stay_copy['size'] , \"average_stay\": avg_stay.values})\n",
    "dur_cost_Df = dur_cost_Df.set_index(['age', 'size']) #setting age and size columns as a multi-index as it was initially\n",
    "dur_cost_Df['average_cost'] = avg_cost.values\n",
    "\n",
    "dur_cost_Df"
   ]
  },
  {
   "cell_type": "markdown",
   "id": "b473c62b-ed47-41b4-9de9-38999c6c6427",
   "metadata": {},
   "source": [
    "### 7. Find the dogs involved in at least 3 travels. Also list the breed of those dogs."
   ]
  },
  {
   "cell_type": "code",
   "execution_count": null,
   "id": "3e323ff8",
   "metadata": {},
   "outputs": [],
   "source": [
    "dogsandtravel = pd.merge(dogs_df['id'], dogTravel_df[['id','index']], how=\"inner\", on =[\"id\", \"id\"])\n",
    "groupby = dogsandtravel.groupby(['id'])['index'].nunique()\n",
    "groupby = groupby[groupby > 2].reset_index()\n",
    "final_dogsandtravel = pd.merge(dogs_df[['id', 'breed_primary', 'breed_secondary', 'breed_mixed']], groupby, how=\"inner\", on =[\"id\", \"id\"])\n",
    "final_dogsandtravel['travels'] = final_dogsandtravel['index']\n",
    "final_dogsandtravel = final_dogsandtravel.drop(columns='index')"
   ]
  },
  {
   "cell_type": "code",
   "execution_count": null,
   "id": "3225ea21",
   "metadata": {},
   "outputs": [],
   "source": [
    "final_dogsandtravel"
   ]
  },
  {
   "cell_type": "markdown",
   "id": "9af8db3f-9440-45f3-ab0a-7816a2f07eff",
   "metadata": {},
   "source": [
    "### 8. Fix the `travels` table so that the correct state is computed from  the `manual` and the `found` fields. If `manual` is not missing, then it overrides what is stored in `found`."
   ]
  },
  {
   "cell_type": "code",
   "execution_count": null,
   "id": "07999a1e",
   "metadata": {},
   "outputs": [],
   "source": [
    "dogTravel_df['found_no_replace'] = dogTravel_df['found']\n",
    "msk = ~(dogTravel_df['manual'].isnull())\n",
    "dogTravel_df['found'] = dogTravel_df['found'].mask(msk, dogTravel_df['manual'])"
   ]
  },
  {
   "cell_type": "code",
   "execution_count": null,
   "id": "2a336749",
   "metadata": {},
   "outputs": [],
   "source": [
    "dogTravel_df"
   ]
  },
  {
   "cell_type": "markdown",
   "id": "58b8ebc7-d50d-4718-9bfa-1a2f95679eba",
   "metadata": {},
   "source": [
    "### 9. For each state, compute the ratio between the number of travels and the population."
   ]
  },
  {
   "cell_type": "code",
   "execution_count": null,
   "id": "9a832d66",
   "metadata": {},
   "outputs": [],
   "source": [
    "dogs_dogTravel = pd.merge(dogs_df[['id', 'contact_state']], dogTravel_df[['id', 'index']], how=\"inner\", on =[\"id\", \"id\"])\n",
    "count_travels = dogs_dogTravel.groupby(['contact_state'])['index'].nunique()\n",
    "count_travels = count_travels[count_travels >= 1].reset_index()\n",
    "\n",
    "count_travels['travels'] = count_travels['index']\n",
    "count_travels = count_travels.drop(columns='index')\n",
    "\n",
    "# count_travels\n",
    "\n",
    "count_travels['travels'].sum() #should be 6194"
   ]
  },
  {
   "cell_type": "code",
   "execution_count": null,
   "id": "265115b6",
   "metadata": {},
   "outputs": [],
   "source": [
    "#adding MANUALLY codes of the states to NST dataframe\n",
    "#in this way we can perform a join based on contact_state attribute which is present in the count_travels dataframe\n",
    "#so that we don't need to join the dataframes on the name of the state\n",
    "\n",
    "NST_df['contact_state'] = ['AL', 'AK', 'AZ', 'AR', 'CA', 'CO', 'CT', 'DE', 'DC', 'FL', 'GA', 'HI', 'ID', 'IL', 'IN', 'IA',\n",
    "                          'KS', 'KY', 'LA', 'ME', 'MD', 'MA', 'MI', 'MN', 'MS', 'MO', 'MT', 'NE', 'NV', 'NH', 'NJ', 'NM',\n",
    "                          'NY', 'NC', 'ND', 'OH', 'OK', 'OR', 'PA', 'RI', 'SC', 'SD', 'TN', 'TX', 'UT', 'VT', 'VA', 'WA',\n",
    "                          'WV', 'WI', 'WY']\n",
    "# NST_df"
   ]
  },
  {
   "cell_type": "code",
   "execution_count": null,
   "id": "0670bdbc",
   "metadata": {},
   "outputs": [],
   "source": [
    "travel_population = pd.merge(count_travels[['contact_state', 'travels']], NST_df[['population', 'contact_state', 'state']], how=\"inner\", on =[\"contact_state\", \"contact_state\"])\n",
    "travel_population"
   ]
  },
  {
   "cell_type": "code",
   "execution_count": null,
   "id": "4c864d69",
   "metadata": {},
   "outputs": [],
   "source": [
    "#remove dots into the column of population so I can transform those strings into int values to perform the division required\n",
    "travel_population['population'] = travel_population['population'].str.replace(r\"(\\d)\\.\", r\"\\1\")\n",
    "travel_population['population']\n",
    "\n",
    "#calculate the ratio between travels and population\n",
    "#calculate the %\n",
    "travel_population['trav/pop_perc'] = (travel_population['travels']/travel_population['population'].astype('int'))*100\n",
    "travel_population"
   ]
  },
  {
   "cell_type": "markdown",
   "id": "2ac557be-0433-4c65-9e17-b10775e96d31",
   "metadata": {},
   "source": [
    "### 10. For each dog, compute the number of days from the `posted` day to the day of last access."
   ]
  },
  {
   "cell_type": "code",
   "execution_count": null,
   "id": "4539ca30",
   "metadata": {},
   "outputs": [],
   "source": [
    "lastaccess = dogs_df.groupby(['id'])['accessed'].max()\n",
    "\n",
    "dogs_last = pd.merge(dogs_df, lastaccess, how = \"inner\", on = [\"id\", \"id\"])"
   ]
  },
  {
   "cell_type": "code",
   "execution_count": null,
   "id": "3786d122",
   "metadata": {},
   "outputs": [],
   "source": [
    "dogs_last['last_access'] = dogs_last['accessed_y']\n",
    "\n",
    "dogs_last = dogs_last.drop(columns=['org_id', 'url', 'type.x', 'species', 'breed_primary', \n",
    "        'breed_secondary', 'breed_mixed', 'breed_unknown', 'color_primary',\n",
    "       'color_secondary', 'color_tertiary', 'age', 'sex', 'size', 'coat',\n",
    "       'fixed', 'house_trained', 'declawed', 'special_needs', 'shots_current',\n",
    "       'env_children', 'env_dogs', 'env_cats', 'name', 'status',\n",
    "       'contact_city', 'contact_state', 'contact_zip', 'contact_country',\n",
    "       'stateQ', 'type.y', 'description', 'stay_duration',\n",
    "       'stay_cost', 'accessed_x', 'accessed_y'])"
   ]
  },
  {
   "cell_type": "code",
   "execution_count": null,
   "id": "f2d9a2cc",
   "metadata": {},
   "outputs": [],
   "source": [
    "dogs_last"
   ]
  },
  {
   "cell_type": "code",
   "execution_count": null,
   "id": "42127214",
   "metadata": {},
   "outputs": [],
   "source": [
    "#transformed into datetime because they were strings and the operation '-' with strings is not supported\n",
    "dogs_last['posted'] = pd.to_datetime(dogs_last['posted'])\n",
    "dogs_last['last_access'] = pd.Series(dogs_last['last_access'], dtype=\"string\")\n",
    "dogs_last['last_access'] = pd.to_datetime(dogs_last['last_access'])"
   ]
  },
  {
   "cell_type": "code",
   "execution_count": null,
   "id": "9b156e8b",
   "metadata": {},
   "outputs": [],
   "source": [
    "dogs_last[\"numdays\"] = (dogs_last['posted'].values - dogs_last['last_access'].values)"
   ]
  },
  {
   "cell_type": "code",
   "execution_count": null,
   "id": "c2702f93",
   "metadata": {},
   "outputs": [],
   "source": [
    "dogs_last[\"numdays_hours_minutes\"] = dogs_last[\"numdays\"].abs()"
   ]
  },
  {
   "cell_type": "code",
   "execution_count": null,
   "id": "d6ea375e",
   "metadata": {},
   "outputs": [],
   "source": [
    "dogs_last[\"numdays\"] = dogs_last[\"numdays\"].dt.days.abs()"
   ]
  },
  {
   "cell_type": "code",
   "execution_count": null,
   "id": "6e111dcf",
   "metadata": {},
   "outputs": [],
   "source": [
    "dogs_last"
   ]
  },
  {
   "cell_type": "markdown",
   "id": "c7f19f9e-ee36-4c50-a0d4-d36bd8135f7f",
   "metadata": {},
   "source": [
    "### 11. Partition the dogs according to the number of weeks from the `posted` day to the day of last access."
   ]
  },
  {
   "cell_type": "code",
   "execution_count": null,
   "id": "b8d57543",
   "metadata": {},
   "outputs": [],
   "source": [
    "dogs_last[\"numweeks\"] = (dogs_last['posted'].values - dogs_last['last_access'].values).astype('timedelta64[W]').astype('int')"
   ]
  },
  {
   "cell_type": "code",
   "execution_count": null,
   "id": "ac679a3f",
   "metadata": {},
   "outputs": [],
   "source": [
    "dogs_last[\"numweeks\"] = dogs_last[\"numweeks\"].abs()\n",
    "\n",
    "dogs_last"
   ]
  },
  {
   "cell_type": "code",
   "execution_count": null,
   "id": "471e51e3",
   "metadata": {},
   "outputs": [],
   "source": [
    "dogs_partition = dogs_last.groupby(['numweeks', 'id'])\n",
    "dogs_partition = dogs_partition.apply(pd.DataFrame) #convert into pandas dataframe\n",
    "dogs_partition"
   ]
  },
  {
   "cell_type": "markdown",
   "id": "59f24e67-8828-435d-9d91-56559f78cb10",
   "metadata": {},
   "source": [
    "### 12. Find for duplicates in the `dogs` dataset. Two records are duplicates if they have (1) same breeds and sex, and (2) they share at least 90% of the words in the description field. Extra points if you find and implement a more refined for determining if two rows are duplicates."
   ]
  },
  {
   "cell_type": "code",
   "execution_count": 2,
   "id": "97cfb70a",
   "metadata": {},
   "outputs": [
    {
     "name": "stdout",
     "output_type": "stream",
     "text": [
      "Collecting scikit-learn\n",
      "  Downloading scikit_learn-1.1.3-cp310-cp310-win_amd64.whl (7.5 MB)\n",
      "     ---------------------------------------- 7.5/7.5 MB 1.5 MB/s eta 0:00:00\n",
      "Collecting threadpoolctl>=2.0.0\n",
      "  Downloading threadpoolctl-3.1.0-py3-none-any.whl (14 kB)\n",
      "Collecting scipy>=1.3.2\n",
      "  Downloading scipy-1.9.3-cp310-cp310-win_amd64.whl (40.1 MB)\n",
      "     ---------------------------------------- 40.1/40.1 MB 1.4 MB/s eta 0:00:00\n",
      "Requirement already satisfied: numpy>=1.17.3 in c:\\users\\danie\\appdata\\local\\programs\\python\\python310\\lib\\site-packages (from scikit-learn) (1.22.1)\n",
      "Collecting joblib>=1.0.0\n",
      "  Downloading joblib-1.2.0-py3-none-any.whl (297 kB)\n",
      "     -------------------------------------- 298.0/298.0 KB 1.3 MB/s eta 0:00:00\n",
      "Installing collected packages: threadpoolctl, scipy, joblib, scikit-learn\n",
      "Successfully installed joblib-1.2.0 scikit-learn-1.1.3 scipy-1.9.3 threadpoolctl-3.1.0\n",
      "Note: you may need to restart the kernel to use updated packages.\n"
     ]
    },
    {
     "name": "stderr",
     "output_type": "stream",
     "text": [
      "WARNING: You are using pip version 22.0.3; however, version 22.3.1 is available.\n",
      "You should consider upgrading via the 'c:\\Users\\danie\\AppData\\Local\\Programs\\Python\\Python310\\python.exe -m pip install --upgrade pip' command.\n"
     ]
    }
   ],
   "source": [
    "%pip install scikit-learn"
   ]
  },
  {
   "cell_type": "code",
   "execution_count": 34,
   "id": "b96c7af1",
   "metadata": {},
   "outputs": [],
   "source": [
    "from sklearn.feature_extraction.text import TfidfVectorizer\n",
    "import numpy as np"
   ]
  },
  {
   "cell_type": "code",
   "execution_count": 47,
   "id": "39b1eea9",
   "metadata": {},
   "outputs": [],
   "source": [
    "#bag of words\n",
    "\n",
    "\n",
    "duplicates = dogs_df\n",
    "duplicates['description'] = duplicates['description'].fillna(\"\")\n",
    "\n",
    "\n",
    "tfidf = TfidfVectorizer().fit_transform(duplicates['description'])\n"
   ]
  },
  {
   "cell_type": "code",
   "execution_count": 49,
   "id": "64fa2e39",
   "metadata": {},
   "outputs": [
    {
     "name": "stdout",
     "output_type": "stream",
     "text": [
      "[11787]\n"
     ]
    },
    {
     "data": {
      "text/plain": [
       "False"
      ]
     },
     "execution_count": 49,
     "metadata": {},
     "output_type": "execute_result"
    }
   ],
   "source": [
    "\n",
    "similarity = tfidf[11787] * tfidf.T\n",
    "\n",
    "s = similarity.A\n",
    "\n",
    "a = np.argwhere(s[0] >= 0.9).flatten()\n",
    "\n",
    "print(a)\n",
    "\n",
    "not(all(i >= 11787 for i in a))\n",
    "\n"
   ]
  },
  {
   "cell_type": "code",
   "execution_count": 89,
   "id": "ad2ded87",
   "metadata": {},
   "outputs": [],
   "source": [
    "\n",
    "def similarity(index):\n",
    "    similarity = tfidf[index] * tfidf.T\n",
    "\n",
    "    s = similarity.A\n",
    "\n",
    "    return np.argwhere(s[0] >= 0.9).flatten().tolist()\n",
    "\n",
    "\n",
    "def find_text(target):\n",
    "    print(str(target.name) + '___________________________________________________________________')\n",
    "    foundIndex = similarity(target.name)\n",
    "    print(len(foundIndex))\n",
    "    return False if len(foundIndex) <= 1 else True\n",
    "            \n",
    "\n",
    "# duplicates['duplicate'] = dogs_df.duplicated(subset=[\"sex\", \"breed_primary\", \"breed_secondary\", \"breed_mixed\", \"breed_unknown\"])\n",
    "# toChange = duplicates[duplicates[\"duplicate\"] == True]\n",
    "\n",
    "# duplicates[duplicates[\"duplicate\"] == True] = toChange.apply(find_text, axis = 1)\n",
    "\n"
   ]
  },
  {
   "cell_type": "code",
   "execution_count": 58,
   "id": "e3182003",
   "metadata": {},
   "outputs": [
    {
     "data": {
      "text/plain": [
       "58180"
      ]
     },
     "execution_count": 58,
     "metadata": {},
     "output_type": "execute_result"
    }
   ],
   "source": [
    "len(dogs_df)"
   ]
  },
  {
   "cell_type": "code",
   "execution_count": 91,
   "id": "4f654770",
   "metadata": {},
   "outputs": [
    {
     "data": {
      "text/plain": [
       "False"
      ]
     },
     "execution_count": 91,
     "metadata": {},
     "output_type": "execute_result"
    }
   ],
   "source": [
    "duplicatesList = [False]*len(dogs_df)\n",
    "\n",
    "duplicatesSeries = pd.Series(duplicatesList)\n",
    "\n",
    "duplicatesSeries[0]\n",
    "\n",
    "# s = similarity(1)\n",
    "# s.remove(1)\n",
    "\n",
    "# print(s)\n",
    "\n",
    "for index, row in dogs_df.iterrows():\n",
    "    found = similarity(index)\n",
    "    found.remove(index)\n",
    "\n",
    "    for f in found:\n",
    "        \n"
   ]
  }
 ],
 "metadata": {
  "kernelspec": {
   "display_name": "Python 3.10.2 64-bit",
   "language": "python",
   "name": "python3"
  },
  "language_info": {
   "codemirror_mode": {
    "name": "ipython",
    "version": 3
   },
   "file_extension": ".py",
   "mimetype": "text/x-python",
   "name": "python",
   "nbconvert_exporter": "python",
   "pygments_lexer": "ipython3",
   "version": "3.10.2"
  },
  "vscode": {
   "interpreter": {
    "hash": "0f2f6c680cf484319d387fabac80ca4ff4fc33965036e02100b3fe02600f1423"
   }
  }
 },
 "nbformat": 4,
 "nbformat_minor": 5
}
